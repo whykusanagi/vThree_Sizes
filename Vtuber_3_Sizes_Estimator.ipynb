{
  "nbformat": 4,
  "nbformat_minor": 0,
  "metadata": {
    "colab": {
      "provenance": [],
      "authorship_tag": "ABX9TyPJLwllMysya3hNAk7eQQw2",
      "include_colab_link": true
    },
    "kernelspec": {
      "name": "python3",
      "display_name": "Python 3"
    },
    "language_info": {
      "name": "python"
    }
  },
  "cells": [
    {
      "cell_type": "markdown",
      "metadata": {
        "id": "view-in-github",
        "colab_type": "text"
      },
      "source": [
        "<a href=\"https://colab.research.google.com/github/whykusanagi/vThree_Sizes/blob/main/Vtuber_3_Sizes_Estimator.ipynb\" target=\"_parent\"><img src=\"https://colab.research.google.com/assets/colab-badge.svg\" alt=\"Open In Colab\"/></a>"
      ]
    },
    {
      "cell_type": "markdown",
      "source": [
        "# vThree_Sizes Character Measurement Calculation\n",
        "Calculator for vtubers to determine their 3 sizes accurately.\n",
        "This notebook processes an anime character image to extract height, bust, waist, underbust, and hip measurements using Mediapipe Pose.\n",
        "\n",
        "Launch in google collab and upload your images directly in `/content/` for easy analysis.\n",
        "\n",
        "### Conversion Explanation\n",
        "- The reference character height is set to **175 cm**. As my character is tall and based on the male vtuber model she is derived from.\n",
        "- The **Nude** height in pixels (1410 pixels) is used as the baseline for conversion.\n",
        "- The **cm/pixel ratio** is calculated as:\n",
        "  \n",
        "  \\[\n",
        "  cm\\_per\\_pixel = \\frac{175}{1410} \\approx 0.1241 \\text{ cm/pixel}\n",
        "  \\]\n",
        "\n",
        "You can change the calculation as needed, but if your character is smaller you can adjust the parameter to the average height.\n",
        "The average American woman is approximately 5 feet 4 inches (162.5 cm) according to the CDC.\n",
        "\n",
        "### Cup Size Calculation\n",
        "- Cup size is determined by the difference between the bust and underbust measurements, following standard thresholds:\n",
        "  - **AA**: 1.0-2.5 cm\n",
        "  - **A**: 2.6-3.5 cm\n",
        "  - **B**: 3.6-5.0 cm\n",
        "  - **C**: 5.1-6.5 cm\n",
        "  - **D**: 6.6-8.0 cm\n",
        "  - **DD/E**: 8.1-9.5 cm\n",
        "  - **F**: 9.6-11.0 cm\n",
        "  - **G**: 11.1-12.5 cm\n",
        "  - **H**: 12.6-14.0 cm\n",
        "\n",
        "### Output Data Table\n",
        "The final table provides measurements in centimeters for each outfit variation, including the estimated cup size.\n",
        "\n",
        "\n",
        "If you found this tool helpful, donate so I can spend more time building random projects like this for the community.\n",
        "![Donate](https://s3.whykusanagi.xyz/Simple_Header_Image.png)(https://streamelements.com/whykusanagi/tip)"
      ],
      "metadata": {
        "id": "9VFeKddW9_FA"
      }
    },
    {
      "cell_type": "code",
      "source": [
        "!pip install mediapipe"
      ],
      "metadata": {
        "collapsed": true,
        "id": "aLR013kzxRZu"
      },
      "execution_count": null,
      "outputs": []
    },
    {
      "cell_type": "code",
      "execution_count": 4,
      "metadata": {
        "id": "eV5WBwJ9w3r4"
      },
      "outputs": [],
      "source": [
        "import cv2\n",
        "import numpy as np\n",
        "import mediapipe as mp\n",
        "import matplotlib.pyplot as plt\n",
        "import pandas as pd"
      ]
    },
    {
      "cell_type": "code",
      "source": [
        "import cv2\n",
        "import numpy as np\n",
        "import mediapipe as mp\n",
        "import matplotlib.pyplot as plt\n",
        "import pandas as pd\n",
        "import os\n",
        "\n",
        "# Path to images folder\n",
        "image_folder = \"/content/\"\n",
        "\n",
        "# Initialize Mediapipe Pose\n",
        "mp_pose = mp.solutions.pose\n",
        "mp_drawing = mp.solutions.drawing_utils\n",
        "pose = mp_pose.Pose(static_image_mode=True, model_complexity=2)\n",
        "\n",
        "# Function to process image and extract keypoints\n",
        "def process_image(image_path):\n",
        "    image = cv2.imread(image_path)\n",
        "    image = cv2.cvtColor(image, cv2.COLOR_BGR2RGB)\n",
        "    results = pose.process(image)\n",
        "\n",
        "    if results.pose_landmarks:\n",
        "        annotated_image = image.copy()\n",
        "        mp_drawing.draw_landmarks(\n",
        "            annotated_image, results.pose_landmarks, mp_pose.POSE_CONNECTIONS)\n",
        "        return results, image\n",
        "    else:\n",
        "        print(f\"No pose detected in {image_path}\")\n",
        "        return None, image\n",
        "\n",
        "# Function to extract keypoints and estimate circumferences\n",
        "def get_body_measurements(results, image_shape):\n",
        "    if not results or not results.pose_landmarks:\n",
        "        return None\n",
        "\n",
        "    h, w, _ = image_shape\n",
        "    keypoints = {i: (int(lm.x * w), int(lm.y * h)) for i, lm in enumerate(results.pose_landmarks.landmark)}\n",
        "\n",
        "    height = abs(keypoints[mp_pose.PoseLandmark.NOSE][1] - keypoints[mp_pose.PoseLandmark.LEFT_ANKLE][1])\n",
        "    bust_width = abs(keypoints[mp_pose.PoseLandmark.LEFT_SHOULDER][0] - keypoints[mp_pose.PoseLandmark.RIGHT_SHOULDER][0])\n",
        "    waist_width = abs(keypoints[mp_pose.PoseLandmark.LEFT_HIP][0] - keypoints[mp_pose.PoseLandmark.RIGHT_HIP][0])\n",
        "    underbust_width = abs(keypoints[mp_pose.PoseLandmark.LEFT_RIB][0] - keypoints[mp_pose.PoseLandmark.RIGHT_RIB][0]) if hasattr(mp_pose.PoseLandmark, 'LEFT_RIB') else waist_width - 5\n",
        "    hip_width = abs(keypoints[mp_pose.PoseLandmark.LEFT_HIP][0] - keypoints[mp_pose.PoseLandmark.RIGHT_HIP][0])\n",
        "\n",
        "    bust_circumference = bust_width * np.pi / 2\n",
        "    waist_circumference = waist_width * np.pi / 2\n",
        "    underbust_circumference = underbust_width * np.pi / 2\n",
        "    hip_circumference = hip_width * np.pi / 2\n",
        "\n",
        "    return {\n",
        "        \"Height\": height,\n",
        "        \"Bust Circumference\": bust_circumference,\n",
        "        \"Waist Circumference\": waist_circumference,\n",
        "        \"Underbust Circumference\": underbust_circumference,\n",
        "        \"Hip Circumference\": hip_circumference,\n",
        "    }\n",
        "\n",
        "# Process all images in folder\n",
        "image_files = [f for f in os.listdir(image_folder) if f.lower().endswith(('png', 'jpg', 'jpeg'))]\n",
        "all_measurements = {}\n",
        "\n",
        "for image_file in image_files:\n",
        "    image_path = os.path.join(image_folder, image_file)\n",
        "    results, image = process_image(image_path)\n",
        "    measurements = get_body_measurements(results, image.shape)\n",
        "\n",
        "    if measurements:\n",
        "        converted_measurements = {key: round(value * (175 / 1410), 1) for key, value in measurements.items()}\n",
        "\n",
        "        def refine_estimate_cup_size(bust, underbust):\n",
        "            bust_difference = bust - underbust\n",
        "            refined_cup_sizes = {\n",
        "                (1.0, 2.5): \"AA\",\n",
        "                (2.6, 3.5): \"A\",\n",
        "                (3.6, 5.0): \"B\",\n",
        "                (5.1, 6.5): \"C\",\n",
        "                (6.6, 8.0): \"D\",\n",
        "                (8.1, 9.5): \"DD/E\",\n",
        "                (9.6, 11.0): \"F\",\n",
        "                (11.1, 12.5): \"G\",\n",
        "                (12.6, 14.0): \"H\",\n",
        "                (14.1, 16.0): \"I\",\n",
        "                (16.1, 18.0): \"J\",\n",
        "                (18.1, 20.0): \"K\",\n",
        "                (20.1, 22.0): \"L\",\n",
        "                (22.1, 24.0): \"M\",\n",
        "                (24.1, 26.0): \"N\",\n",
        "                (26.1, 28.0): \"O\"\n",
        "            }\n",
        "            for (lower, upper), size in refined_cup_sizes.items():\n",
        "                if lower <= bust_difference <= upper:\n",
        "                    return size\n",
        "            return \"Unknown\"\n",
        "\n",
        "        cup_size = refine_estimate_cup_size(converted_measurements[\"Bust Circumference\"], converted_measurements[\"Underbust Circumference\"])\n",
        "        converted_measurements[\"Cup Size\"] = cup_size\n",
        "        all_measurements[image_file] = converted_measurements\n",
        "\n",
        "# Display results\n",
        "df = pd.DataFrame.from_dict(all_measurements, orient='index')\n",
        "print(df)"
      ],
      "metadata": {
        "colab": {
          "base_uri": "https://localhost:8080/"
        },
        "id": "gNlzGveBw-Ry",
        "outputId": "6ecc27e0-3d66-4a58-a1cb-2c6817d0d62f"
      },
      "execution_count": 16,
      "outputs": [
        {
          "output_type": "stream",
          "name": "stdout",
          "text": [
            "                  Height  Bust Circumference  Waist Circumference  \\\n",
            "no_dress.png       137.4                49.5                 32.9   \n",
            "marie_dress.png    175.0                45.8                 32.8   \n",
            "nude_body.png      175.0                48.2                 32.9   \n",
            "plug_suit.png      177.9                47.0                 34.5   \n",
            "bunny_outfit.png   179.8                50.9                 35.1   \n",
            "\n",
            "                  Underbust Circumference  Hip Circumference Cup Size  \n",
            "no_dress.png                         32.0               32.9        J  \n",
            "marie_dress.png                      31.8               32.8        H  \n",
            "nude_body.png                        32.0               32.9        J  \n",
            "plug_suit.png                        33.5               34.5        H  \n",
            "bunny_outfit.png                     34.1               35.1        J  \n"
          ]
        }
      ]
    },
    {
      "cell_type": "code",
      "source": [],
      "metadata": {
        "id": "tgx5ptTMxucb"
      },
      "execution_count": null,
      "outputs": []
    }
  ]
}